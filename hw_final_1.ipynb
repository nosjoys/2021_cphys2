{
 "cells": [
  {
   "cell_type": "markdown",
   "id": "3c483312",
   "metadata": {},
   "source": [
    "# 1. Titanic\n",
    "* 출력을 csv 파일로 저장하여 제출! (Jupyter notebook code도 함께 제출)\n",
    "* Remember our goal: we want to find patterns in train.csv that help us predict whether the passengers in test.csv survived."
   ]
  },
  {
   "cell_type": "code",
   "execution_count": 1,
   "id": "b9b081fd",
   "metadata": {
    "scrolled": false
   },
   "outputs": [
    {
     "data": {
      "text/html": [
       "<div>\n",
       "<style scoped>\n",
       "    .dataframe tbody tr th:only-of-type {\n",
       "        vertical-align: middle;\n",
       "    }\n",
       "\n",
       "    .dataframe tbody tr th {\n",
       "        vertical-align: top;\n",
       "    }\n",
       "\n",
       "    .dataframe thead th {\n",
       "        text-align: right;\n",
       "    }\n",
       "</style>\n",
       "<table border=\"1\" class=\"dataframe\">\n",
       "  <thead>\n",
       "    <tr style=\"text-align: right;\">\n",
       "      <th></th>\n",
       "      <th>PassengerId</th>\n",
       "      <th>Survived</th>\n",
       "      <th>Pclass</th>\n",
       "      <th>Name</th>\n",
       "      <th>Sex</th>\n",
       "      <th>Age</th>\n",
       "      <th>SibSp</th>\n",
       "      <th>Parch</th>\n",
       "      <th>Ticket</th>\n",
       "      <th>Fare</th>\n",
       "      <th>Cabin</th>\n",
       "      <th>Embarked</th>\n",
       "    </tr>\n",
       "  </thead>\n",
       "  <tbody>\n",
       "    <tr>\n",
       "      <th>0</th>\n",
       "      <td>1</td>\n",
       "      <td>0</td>\n",
       "      <td>3</td>\n",
       "      <td>Braund, Mr. Owen Harris</td>\n",
       "      <td>male</td>\n",
       "      <td>22.0</td>\n",
       "      <td>1</td>\n",
       "      <td>0</td>\n",
       "      <td>A/5 21171</td>\n",
       "      <td>7.2500</td>\n",
       "      <td>NaN</td>\n",
       "      <td>S</td>\n",
       "    </tr>\n",
       "    <tr>\n",
       "      <th>1</th>\n",
       "      <td>2</td>\n",
       "      <td>1</td>\n",
       "      <td>1</td>\n",
       "      <td>Cumings, Mrs. John Bradley (Florence Briggs Th...</td>\n",
       "      <td>female</td>\n",
       "      <td>38.0</td>\n",
       "      <td>1</td>\n",
       "      <td>0</td>\n",
       "      <td>PC 17599</td>\n",
       "      <td>71.2833</td>\n",
       "      <td>C85</td>\n",
       "      <td>C</td>\n",
       "    </tr>\n",
       "    <tr>\n",
       "      <th>2</th>\n",
       "      <td>3</td>\n",
       "      <td>1</td>\n",
       "      <td>3</td>\n",
       "      <td>Heikkinen, Miss. Laina</td>\n",
       "      <td>female</td>\n",
       "      <td>26.0</td>\n",
       "      <td>0</td>\n",
       "      <td>0</td>\n",
       "      <td>STON/O2. 3101282</td>\n",
       "      <td>7.9250</td>\n",
       "      <td>NaN</td>\n",
       "      <td>S</td>\n",
       "    </tr>\n",
       "    <tr>\n",
       "      <th>3</th>\n",
       "      <td>4</td>\n",
       "      <td>1</td>\n",
       "      <td>1</td>\n",
       "      <td>Futrelle, Mrs. Jacques Heath (Lily May Peel)</td>\n",
       "      <td>female</td>\n",
       "      <td>35.0</td>\n",
       "      <td>1</td>\n",
       "      <td>0</td>\n",
       "      <td>113803</td>\n",
       "      <td>53.1000</td>\n",
       "      <td>C123</td>\n",
       "      <td>S</td>\n",
       "    </tr>\n",
       "    <tr>\n",
       "      <th>4</th>\n",
       "      <td>5</td>\n",
       "      <td>0</td>\n",
       "      <td>3</td>\n",
       "      <td>Allen, Mr. William Henry</td>\n",
       "      <td>male</td>\n",
       "      <td>35.0</td>\n",
       "      <td>0</td>\n",
       "      <td>0</td>\n",
       "      <td>373450</td>\n",
       "      <td>8.0500</td>\n",
       "      <td>NaN</td>\n",
       "      <td>S</td>\n",
       "    </tr>\n",
       "  </tbody>\n",
       "</table>\n",
       "</div>"
      ],
      "text/plain": [
       "   PassengerId  Survived  Pclass  \\\n",
       "0            1         0       3   \n",
       "1            2         1       1   \n",
       "2            3         1       3   \n",
       "3            4         1       1   \n",
       "4            5         0       3   \n",
       "\n",
       "                                                Name     Sex   Age  SibSp  \\\n",
       "0                            Braund, Mr. Owen Harris    male  22.0      1   \n",
       "1  Cumings, Mrs. John Bradley (Florence Briggs Th...  female  38.0      1   \n",
       "2                             Heikkinen, Miss. Laina  female  26.0      0   \n",
       "3       Futrelle, Mrs. Jacques Heath (Lily May Peel)  female  35.0      1   \n",
       "4                           Allen, Mr. William Henry    male  35.0      0   \n",
       "\n",
       "   Parch            Ticket     Fare Cabin Embarked  \n",
       "0      0         A/5 21171   7.2500   NaN        S  \n",
       "1      0          PC 17599  71.2833   C85        C  \n",
       "2      0  STON/O2. 3101282   7.9250   NaN        S  \n",
       "3      0            113803  53.1000  C123        S  \n",
       "4      0            373450   8.0500   NaN        S  "
      ]
     },
     "execution_count": 1,
     "metadata": {},
     "output_type": "execute_result"
    }
   ],
   "source": [
    "import pandas as pd\n",
    "\n",
    "train = pd.read_csv(\"C:/Users/yune4/titanic/train.csv\")\n",
    "test = pd.read_csv(\"C:/Users/yune4/titanic/test.csv\")\n",
    "train.head()"
   ]
  },
  {
   "cell_type": "markdown",
   "id": "5394ade8",
   "metadata": {},
   "source": [
    "* PassengerId - 탑승자 번호  (합습에 이용 안함)\n",
    "* Survived - 생존 여부 (0 = 사망, 1 = 생존)  (학습에 이용)\n",
    "* Pclass - 티켓 클래스 (1 = 1등석, 2 = 2등석, 3 = 3등석)  (학습에 이용)\n",
    "* Sex - 성별  (학습에 이용)\n",
    "* Age - 나이  (학습에 이용)\n",
    "* SibSp - 함께 탑승한 자녀 / 배우자 의 수     ----┐합하여 Family로 (학습에 이용)\n",
    "* Parch - 함께 탑승한 부모님 / 아이들 의 수   -┘\n",
    "* Ticket - 티켓 번호  (학습에 이용 안함)\n",
    "* Fare - 탑승 요금    (학습에 이용)\n",
    "* Cabin - 수하물 번호  (학습에 이용)\n",
    "* Embarked - 선착장 (C = Cherbourg, Q = Queenstown, S = Southampton)  (학습에 이용)"
   ]
  },
  {
   "cell_type": "code",
   "execution_count": 2,
   "id": "00af32f8",
   "metadata": {},
   "outputs": [
    {
     "name": "stdout",
     "output_type": "stream",
     "text": [
      "PassengerId      0\n",
      "Survived         0\n",
      "Pclass           0\n",
      "Name             0\n",
      "Sex              0\n",
      "Age            177\n",
      "SibSp            0\n",
      "Parch            0\n",
      "Ticket           0\n",
      "Fare             0\n",
      "Cabin          687\n",
      "Embarked         2\n",
      "dtype: int64\n"
     ]
    }
   ],
   "source": [
    "print(train.isna().sum(axis=0)) #age와 cabin, embarked에 결측값 있음"
   ]
  },
  {
   "cell_type": "code",
   "execution_count": 3,
   "id": "1f95c951",
   "metadata": {
    "scrolled": true
   },
   "outputs": [
    {
     "data": {
      "text/plain": [
       "0        Mr\n",
       "1       Mrs\n",
       "2      Miss\n",
       "3       Mrs\n",
       "4        Mr\n",
       "       ... \n",
       "886     Rev\n",
       "887    Miss\n",
       "888    Miss\n",
       "889      Mr\n",
       "890      Mr\n",
       "Name: Title, Length: 891, dtype: object"
      ]
     },
     "execution_count": 3,
     "metadata": {},
     "output_type": "execute_result"
    }
   ],
   "source": [
    "train['Name'] = train['Name'].apply(lambda x: x.split(',')[1].strip())\n",
    "train['Title'] = train['Name'].apply(lambda x: x.split('.')[0].strip())\n",
    "train['Title'] #후에 age결측값 처리 위해 미리 만들어둠"
   ]
  },
  {
   "cell_type": "code",
   "execution_count": 4,
   "id": "217671a7",
   "metadata": {},
   "outputs": [],
   "source": [
    "train_df = train.drop(['PassengerId', 'Ticket',  'Name'], axis=1, inplace=False) #안쓰는 열 삭제\n",
    "train_df['Family'] = train_df['SibSp'] + train_df['Parch'] #두 데이터 합하여 하나의 데이터로\n",
    "train_df.drop(['SibSp', 'Parch'], axis=1, inplace=True) #원래의 열 삭제"
   ]
  },
  {
   "cell_type": "code",
   "execution_count": 5,
   "id": "7a83784c",
   "metadata": {},
   "outputs": [],
   "source": [
    "gender_mapping = {'female': 1, 'male': 0} #성별 숫자로\n",
    "train_df['Sex'] = train_df['Sex'].map(gender_mapping) "
   ]
  },
  {
   "cell_type": "code",
   "execution_count": 6,
   "id": "4b6ebc82",
   "metadata": {},
   "outputs": [],
   "source": [
    "embarked_mapping = {'S': 2, 'Q': 1, 'C': 0} #항구 숫자로\n",
    "train_df['Embarked'] = train_df['Embarked'].map(embarked_mapping) \n",
    "train_df['Embarked'] = train_df['Embarked'].fillna(train_df['Embarked'].mode()[0]) #항구 결측치를 최빈값으로 처리"
   ]
  },
  {
   "cell_type": "code",
   "execution_count": 7,
   "id": "dabd6efc",
   "metadata": {},
   "outputs": [
    {
     "name": "stdout",
     "output_type": "stream",
     "text": [
      "{'nan': 0, 'C': 1, 'B': 2, 'D': 3, 'E': 4, 'A': 5, 'F': 6, 'G': 7, 'T': 8}\n"
     ]
    }
   ],
   "source": [
    "train_df['Cabin'] = train_df['Cabin'].apply(lambda x: x[:1] if type(x)==str else str(x)) #알파벳만 가져옴\n",
    "\n",
    "#cabin mapping\n",
    "i = 0  \n",
    "cabin_mapping = {}\n",
    "for idx in train_df['Cabin'].value_counts().index:\n",
    "    cabin_mapping[idx] = i\n",
    "    i += 1\n",
    "    \n",
    "print(cabin_mapping)\n",
    "\n",
    "train_df['Cabin'] = train_df['Cabin'].map(cabin_mapping)"
   ]
  },
  {
   "cell_type": "code",
   "execution_count": 8,
   "id": "18f93b17",
   "metadata": {},
   "outputs": [
    {
     "name": "stdout",
     "output_type": "stream",
     "text": [
      "Survived    0\n",
      "Pclass      0\n",
      "Sex         0\n",
      "Age         0\n",
      "Fare        0\n",
      "Cabin       0\n",
      "Embarked    0\n",
      "Title       0\n",
      "Family      0\n",
      "dtype: int64\n"
     ]
    }
   ],
   "source": [
    "train_df['Age'] = train_df['Age'].fillna(train_df.groupby('Title')['Age'].transform('mean')) #호칭별 age 평균값 이용하여 age결측값 처리\n",
    "print(train_df.isna().sum(axis=0)) #결측값 처리된 것 보여줌\n",
    "train_df.drop(['Title'], axis=1, inplace=True) #Title 열 삭제"
   ]
  },
  {
   "cell_type": "code",
   "execution_count": 9,
   "id": "2e2333c7",
   "metadata": {
    "scrolled": true
   },
   "outputs": [
    {
     "data": {
      "text/html": [
       "<div>\n",
       "<style scoped>\n",
       "    .dataframe tbody tr th:only-of-type {\n",
       "        vertical-align: middle;\n",
       "    }\n",
       "\n",
       "    .dataframe tbody tr th {\n",
       "        vertical-align: top;\n",
       "    }\n",
       "\n",
       "    .dataframe thead th {\n",
       "        text-align: right;\n",
       "    }\n",
       "</style>\n",
       "<table border=\"1\" class=\"dataframe\">\n",
       "  <thead>\n",
       "    <tr style=\"text-align: right;\">\n",
       "      <th></th>\n",
       "      <th>Survived</th>\n",
       "      <th>Pclass</th>\n",
       "      <th>Sex</th>\n",
       "      <th>Age</th>\n",
       "      <th>Fare</th>\n",
       "      <th>Cabin</th>\n",
       "      <th>Embarked</th>\n",
       "      <th>Family</th>\n",
       "    </tr>\n",
       "  </thead>\n",
       "  <tbody>\n",
       "    <tr>\n",
       "      <th>0</th>\n",
       "      <td>0</td>\n",
       "      <td>3</td>\n",
       "      <td>0</td>\n",
       "      <td>22.0</td>\n",
       "      <td>7.2500</td>\n",
       "      <td>0</td>\n",
       "      <td>2.0</td>\n",
       "      <td>1</td>\n",
       "    </tr>\n",
       "    <tr>\n",
       "      <th>1</th>\n",
       "      <td>1</td>\n",
       "      <td>1</td>\n",
       "      <td>1</td>\n",
       "      <td>38.0</td>\n",
       "      <td>71.2833</td>\n",
       "      <td>1</td>\n",
       "      <td>0.0</td>\n",
       "      <td>1</td>\n",
       "    </tr>\n",
       "    <tr>\n",
       "      <th>2</th>\n",
       "      <td>1</td>\n",
       "      <td>3</td>\n",
       "      <td>1</td>\n",
       "      <td>26.0</td>\n",
       "      <td>7.9250</td>\n",
       "      <td>0</td>\n",
       "      <td>2.0</td>\n",
       "      <td>0</td>\n",
       "    </tr>\n",
       "    <tr>\n",
       "      <th>3</th>\n",
       "      <td>1</td>\n",
       "      <td>1</td>\n",
       "      <td>1</td>\n",
       "      <td>35.0</td>\n",
       "      <td>53.1000</td>\n",
       "      <td>1</td>\n",
       "      <td>2.0</td>\n",
       "      <td>1</td>\n",
       "    </tr>\n",
       "    <tr>\n",
       "      <th>4</th>\n",
       "      <td>0</td>\n",
       "      <td>3</td>\n",
       "      <td>0</td>\n",
       "      <td>35.0</td>\n",
       "      <td>8.0500</td>\n",
       "      <td>0</td>\n",
       "      <td>2.0</td>\n",
       "      <td>0</td>\n",
       "    </tr>\n",
       "  </tbody>\n",
       "</table>\n",
       "</div>"
      ],
      "text/plain": [
       "   Survived  Pclass  Sex   Age     Fare  Cabin  Embarked  Family\n",
       "0         0       3    0  22.0   7.2500      0       2.0       1\n",
       "1         1       1    1  38.0  71.2833      1       0.0       1\n",
       "2         1       3    1  26.0   7.9250      0       2.0       0\n",
       "3         1       1    1  35.0  53.1000      1       2.0       1\n",
       "4         0       3    0  35.0   8.0500      0       2.0       0"
      ]
     },
     "execution_count": 9,
     "metadata": {},
     "output_type": "execute_result"
    }
   ],
   "source": [
    "train_df.head() #최종 train dataset 완성"
   ]
  },
  {
   "cell_type": "markdown",
   "id": "20ac65ed",
   "metadata": {},
   "source": [
    "위의 train data와 같은 방법으로 test data 처리"
   ]
  },
  {
   "cell_type": "code",
   "execution_count": 10,
   "id": "72f3aa08",
   "metadata": {},
   "outputs": [
    {
     "name": "stdout",
     "output_type": "stream",
     "text": [
      "PassengerId      0\n",
      "Pclass           0\n",
      "Name             0\n",
      "Sex              0\n",
      "Age             86\n",
      "SibSp            0\n",
      "Parch            0\n",
      "Ticket           0\n",
      "Fare             1\n",
      "Cabin          327\n",
      "Embarked         0\n",
      "dtype: int64\n"
     ]
    }
   ],
   "source": [
    "print(test.isna().sum(axis=0))"
   ]
  },
  {
   "cell_type": "code",
   "execution_count": 11,
   "id": "7eb6cbbf",
   "metadata": {},
   "outputs": [
    {
     "data": {
      "text/plain": [
       "0          Mr\n",
       "1         Mrs\n",
       "2          Mr\n",
       "3          Mr\n",
       "4         Mrs\n",
       "        ...  \n",
       "413        Mr\n",
       "414      Dona\n",
       "415        Mr\n",
       "416        Mr\n",
       "417    Master\n",
       "Name: Title, Length: 418, dtype: object"
      ]
     },
     "execution_count": 11,
     "metadata": {},
     "output_type": "execute_result"
    }
   ],
   "source": [
    "test['Name'] = test['Name'].apply(lambda x: x.split(',')[1].strip())\n",
    "test['Title'] = test['Name'].apply(lambda x: x.split('.')[0].strip())\n",
    "test['Title']"
   ]
  },
  {
   "cell_type": "code",
   "execution_count": 12,
   "id": "9d4fdb38",
   "metadata": {},
   "outputs": [],
   "source": [
    "test_df = test.drop(['PassengerId', 'Ticket',  'Name'], axis=1, inplace=False)\n",
    "test_df['Family'] = test_df['SibSp'] + test_df['Parch'] \n",
    "test_df.drop(['SibSp', 'Parch'], axis=1, inplace=True)\n",
    "test_df['Sex'] = test_df['Sex'].map(gender_mapping)\n",
    "test_df['Embarked'] = test_df['Embarked'].map(embarked_mapping) "
   ]
  },
  {
   "cell_type": "code",
   "execution_count": 13,
   "id": "e329516a",
   "metadata": {},
   "outputs": [],
   "source": [
    "test_df['Cabin'] = test_df['Cabin'].apply(lambda x: x[:1] if type(x)==str else str(x))\n",
    "test_df['Cabin'] = test_df['Cabin'].map(cabin_mapping)"
   ]
  },
  {
   "cell_type": "code",
   "execution_count": 14,
   "id": "619ae378",
   "metadata": {},
   "outputs": [
    {
     "name": "stdout",
     "output_type": "stream",
     "text": [
      "Pclass      0\n",
      "Sex         0\n",
      "Age         1\n",
      "Fare        1\n",
      "Cabin       0\n",
      "Embarked    0\n",
      "Title       0\n",
      "Family      0\n",
      "dtype: int64\n"
     ]
    }
   ],
   "source": [
    "test_df['Age'] = test_df['Age'].fillna(test_df.groupby('Title')['Age'].transform('mean'))\n",
    "print(test_df.isna().sum(axis=0)) \n",
    "test_df.drop(['Title'], axis=1, inplace=True) "
   ]
  },
  {
   "cell_type": "code",
   "execution_count": 15,
   "id": "cc76e254",
   "metadata": {},
   "outputs": [
    {
     "name": "stdout",
     "output_type": "stream",
     "text": [
      "Pclass      0\n",
      "Sex         0\n",
      "Age         0\n",
      "Fare        0\n",
      "Cabin       0\n",
      "Embarked    0\n",
      "Family      0\n",
      "dtype: int64\n"
     ]
    }
   ],
   "source": [
    "#위에서 결측치 처리가 안된 값은 각 컬럼의 평균값으로 대체\n",
    "test_df['Age'] = test_df['Age'].fillna(test_df['Age'].mean())\n",
    "test_df['Fare'] = test_df['Fare'].fillna(test_df['Fare'].mean())\n",
    "print(test_df.isna().sum(axis=0)) "
   ]
  },
  {
   "cell_type": "code",
   "execution_count": 16,
   "id": "8bd90752",
   "metadata": {},
   "outputs": [
    {
     "data": {
      "text/html": [
       "<div>\n",
       "<style scoped>\n",
       "    .dataframe tbody tr th:only-of-type {\n",
       "        vertical-align: middle;\n",
       "    }\n",
       "\n",
       "    .dataframe tbody tr th {\n",
       "        vertical-align: top;\n",
       "    }\n",
       "\n",
       "    .dataframe thead th {\n",
       "        text-align: right;\n",
       "    }\n",
       "</style>\n",
       "<table border=\"1\" class=\"dataframe\">\n",
       "  <thead>\n",
       "    <tr style=\"text-align: right;\">\n",
       "      <th></th>\n",
       "      <th>Pclass</th>\n",
       "      <th>Sex</th>\n",
       "      <th>Age</th>\n",
       "      <th>Fare</th>\n",
       "      <th>Cabin</th>\n",
       "      <th>Embarked</th>\n",
       "      <th>Family</th>\n",
       "    </tr>\n",
       "  </thead>\n",
       "  <tbody>\n",
       "    <tr>\n",
       "      <th>0</th>\n",
       "      <td>3</td>\n",
       "      <td>0</td>\n",
       "      <td>34.5</td>\n",
       "      <td>7.8292</td>\n",
       "      <td>0</td>\n",
       "      <td>1</td>\n",
       "      <td>0</td>\n",
       "    </tr>\n",
       "    <tr>\n",
       "      <th>1</th>\n",
       "      <td>3</td>\n",
       "      <td>1</td>\n",
       "      <td>47.0</td>\n",
       "      <td>7.0000</td>\n",
       "      <td>0</td>\n",
       "      <td>2</td>\n",
       "      <td>1</td>\n",
       "    </tr>\n",
       "    <tr>\n",
       "      <th>2</th>\n",
       "      <td>2</td>\n",
       "      <td>0</td>\n",
       "      <td>62.0</td>\n",
       "      <td>9.6875</td>\n",
       "      <td>0</td>\n",
       "      <td>1</td>\n",
       "      <td>0</td>\n",
       "    </tr>\n",
       "    <tr>\n",
       "      <th>3</th>\n",
       "      <td>3</td>\n",
       "      <td>0</td>\n",
       "      <td>27.0</td>\n",
       "      <td>8.6625</td>\n",
       "      <td>0</td>\n",
       "      <td>2</td>\n",
       "      <td>0</td>\n",
       "    </tr>\n",
       "    <tr>\n",
       "      <th>4</th>\n",
       "      <td>3</td>\n",
       "      <td>1</td>\n",
       "      <td>22.0</td>\n",
       "      <td>12.2875</td>\n",
       "      <td>0</td>\n",
       "      <td>2</td>\n",
       "      <td>2</td>\n",
       "    </tr>\n",
       "  </tbody>\n",
       "</table>\n",
       "</div>"
      ],
      "text/plain": [
       "   Pclass  Sex   Age     Fare  Cabin  Embarked  Family\n",
       "0       3    0  34.5   7.8292      0         1       0\n",
       "1       3    1  47.0   7.0000      0         2       1\n",
       "2       2    0  62.0   9.6875      0         1       0\n",
       "3       3    0  27.0   8.6625      0         2       0\n",
       "4       3    1  22.0  12.2875      0         2       2"
      ]
     },
     "execution_count": 16,
     "metadata": {},
     "output_type": "execute_result"
    }
   ],
   "source": [
    "test_df.head() #최종 test dataset 완성"
   ]
  },
  {
   "cell_type": "code",
   "execution_count": 21,
   "id": "c7436628",
   "metadata": {},
   "outputs": [
    {
     "name": "stdout",
     "output_type": "stream",
     "text": [
      "Your submission was successfully saved!\n"
     ]
    }
   ],
   "source": [
    "from sklearn.ensemble import RandomForestClassifier  #예측 후 저장\n",
    "\n",
    "y = train_df[\"Survived\"]\n",
    "\n",
    "features = [\"Pclass\", \"Sex\", \"Family\", \"Age\", \"Embarked\", \"Fare\", \"Cabin\"]\n",
    "X = pd.get_dummies(train_df[features])\n",
    "X_test = pd.get_dummies(test_df[features])\n",
    "\n",
    "model = RandomForestClassifier(n_estimators=100, max_depth=5, random_state=1)\n",
    "model.fit(X, y)\n",
    "predictions = model.predict(X_test)\n",
    "\n",
    "output = pd.DataFrame({'PassengerId': test.PassengerId, 'Survived': predictions})\n",
    "output.to_csv('my_submission.csv', index=False)\n",
    "print(\"Your submission was successfully saved!\")"
   ]
  },
  {
   "cell_type": "code",
   "execution_count": null,
   "id": "f1ad254b",
   "metadata": {},
   "outputs": [],
   "source": []
  }
 ],
 "metadata": {
  "kernelspec": {
   "display_name": "Python 3",
   "language": "python",
   "name": "python3"
  },
  "language_info": {
   "codemirror_mode": {
    "name": "ipython",
    "version": 3
   },
   "file_extension": ".py",
   "mimetype": "text/x-python",
   "name": "python",
   "nbconvert_exporter": "python",
   "pygments_lexer": "ipython3",
   "version": "3.7.11"
  }
 },
 "nbformat": 4,
 "nbformat_minor": 5
}
