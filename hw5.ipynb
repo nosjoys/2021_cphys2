{
 "cells": [
  {
   "cell_type": "markdown",
   "metadata": {},
   "source": [
    "# Backpropagation\n",
    "## XOR\n",
    "* 하나의 히든 레이어\n",
    "* input layer는 2개의 노드 +1개의 바이어스\n",
    "* hidden layer는 3개의 노드 +1개의 바이어스\n",
    "* output은 하나의 노드"
   ]
  },
  {
   "cell_type": "markdown",
   "metadata": {},
   "source": [
    "* X = np.array([[0,0,1],[1,0,1],[0,1,1],[1,1,1]])\n",
    "* y = np.array([[0],[1],[1],[0]])"
   ]
  },
  {
   "cell_type": "markdown",
   "metadata": {},
   "source": [
    "위의 데이터를 neural networks에서 backpropagation을 이용하여 학습시켜라"
   ]
  },
  {
   "cell_type": "code",
   "execution_count": 1,
   "metadata": {},
   "outputs": [],
   "source": [
    "import numpy as np"
   ]
  },
  {
   "cell_type": "code",
   "execution_count": 2,
   "metadata": {},
   "outputs": [],
   "source": [
    "X = np.array([[0,0,1],[1,0,1],[0,1,1],[1,1,1]]) # 세번째 항은 bias\n",
    "y = np.array([[0],[1],[1],[0]])"
   ]
  },
  {
   "cell_type": "code",
   "execution_count": 3,
   "metadata": {},
   "outputs": [],
   "source": [
    "#sigmoid 함수\n",
    "def f(x):\n",
    "    return 1/(1+np.exp(-x))\n",
    "def f_p(x):\n",
    "    return f(x)*(1-f(x))"
   ]
  },
  {
   "cell_type": "code",
   "execution_count": 4,
   "metadata": {},
   "outputs": [],
   "source": [
    "#초기값 임의로 지정\n",
    "w0=np.array([[1,1,1,1],[0,1,0,1],[1,0,1,0]])\n",
    "w1=np.array([[1],[1],[1],[1]]) #네번째 항은 bias\n",
    "eta=1"
   ]
  },
  {
   "cell_type": "markdown",
   "metadata": {},
   "source": [
    "#### 최초 순방향 계산으로 값들 얻기"
   ]
  },
  {
   "cell_type": "code",
   "execution_count": 5,
   "metadata": {
    "scrolled": true
   },
   "outputs": [
    {
     "data": {
      "text/plain": [
       "(array([[1],\n",
       "        [1],\n",
       "        [1],\n",
       "        [1]]),\n",
       " array([[0.73105858],\n",
       "        [0.73105858],\n",
       "        [0.73105858],\n",
       "        [0.73105858]]))"
      ]
     },
     "execution_count": 5,
     "metadata": {},
     "output_type": "execute_result"
    }
   ],
   "source": [
    "net_h0=X[0][0]*w0[0][0]+X[0][1]*w0[1][0]+X[0][2]*w0[2][0]\n",
    "net_h1=X[1][0]*w0[0][1]+X[1][1]*w0[1][1]+X[1][2]*w0[2][1]\n",
    "net_h2=X[2][0]*w0[0][2]+X[2][1]*w0[1][2]+X[2][2]*w0[2][2]\n",
    "net_h3=X[3][0]*w0[0][3]+X[3][1]*w0[1][3]+X[3][2]*w0[2][3]\n",
    "net_h=np.array([[net_h0],[net_h1],[net_h2],[1]]) #최초 net_h의 네번째 항은 bias\n",
    "net_h\n",
    "\n",
    "h=f(net_h)\n",
    "net_h, h"
   ]
  },
  {
   "cell_type": "code",
   "execution_count": 6,
   "metadata": {
    "scrolled": true
   },
   "outputs": [
    {
     "data": {
      "text/plain": [
       "(array([[0.73105858],\n",
       "        [0.73105858],\n",
       "        [0.73105858],\n",
       "        [0.73105858]]),\n",
       " array([[0.67503753],\n",
       "        [0.67503753],\n",
       "        [0.67503753],\n",
       "        [0.67503753]]))"
      ]
     },
     "execution_count": 6,
     "metadata": {},
     "output_type": "execute_result"
    }
   ],
   "source": [
    "net_o=h*w1\n",
    "o=f(net_o)\n",
    "net_o, o"
   ]
  },
  {
   "cell_type": "markdown",
   "metadata": {},
   "source": [
    "#### Backpropagation"
   ]
  },
  {
   "cell_type": "code",
   "execution_count": 7,
   "metadata": {},
   "outputs": [
    {
     "data": {
      "text/plain": [
       "(array([[ 0.14807749],\n",
       "        [-0.07128437],\n",
       "        [-0.07128437],\n",
       "        [ 0.14807749]]),\n",
       " array([[ 0.0291138 ],\n",
       "        [-0.01401536],\n",
       "        [-0.01401536],\n",
       "        [ 0.0291138 ]]))"
      ]
     },
     "execution_count": 7,
     "metadata": {},
     "output_type": "execute_result"
    }
   ],
   "source": [
    "e=o-y\n",
    "delta_o=e*f_p(net_o)\n",
    "delta_j=delta_o*w1*f_p(net_h)\n",
    "delta_o, delta_j"
   ]
  },
  {
   "cell_type": "code",
   "execution_count": 8,
   "metadata": {
    "scrolled": true
   },
   "outputs": [
    {
     "data": {
      "text/plain": [
       "(array([[0.89174668],\n",
       "        [1.05211305],\n",
       "        [1.05211305],\n",
       "        [0.89174668]]),\n",
       " array([[ 1.        ,  1.01401536,  1.        ,  0.9708862 ],\n",
       "        [ 0.        ,  1.        ,  0.01401536,  0.9708862 ],\n",
       "        [ 0.9708862 ,  0.01401536,  1.01401536, -0.0291138 ]]),\n",
       " array([[0.67503753],\n",
       "        [0.67503753],\n",
       "        [0.67503753],\n",
       "        [0.67503753]]))"
      ]
     },
     "execution_count": 8,
     "metadata": {},
     "output_type": "execute_result"
    }
   ],
   "source": [
    "w1=w1-eta*delta_o*h\n",
    "w0=w0-eta*np.transpose(delta_j*X)\n",
    "w1, w0, o"
   ]
  },
  {
   "cell_type": "markdown",
   "metadata": {},
   "source": [
    "#### 반복"
   ]
  },
  {
   "cell_type": "code",
   "execution_count": 10,
   "metadata": {},
   "outputs": [
    {
     "data": {
      "text/plain": [
       "(array([[1.        , 2.1863048 , 1.        , 1.61643243],\n",
       "        [0.        , 1.        , 1.1863048 , 1.61643243],\n",
       "        [2.77345073, 1.1863048 , 2.1863048 , 0.61643243]]),\n",
       " array([[-5.5965467 ],\n",
       "        [ 5.46040595],\n",
       "        [ 5.46040595],\n",
       "        [-5.3910309 ]]),\n",
       " array([[0.00512963],\n",
       "        [0.99492984],\n",
       "        [0.99492984],\n",
       "        [0.0050737 ]]))"
      ]
     },
     "execution_count": 10,
     "metadata": {},
     "output_type": "execute_result"
    }
   ],
   "source": [
    "for i in range(10000):\n",
    "    net_h0=X[0][0]*w0[0][0]+X[0][1]*w0[1][0]+X[0][2]*w0[2][0]\n",
    "    net_h1=X[1][0]*w0[0][1]+X[1][1]*w0[1][1]+X[1][2]*w0[2][1]\n",
    "    net_h2=X[2][0]*w0[0][2]+X[2][1]*w0[1][2]+X[2][2]*w0[2][2]\n",
    "    net_h3=X[3][0]*w0[0][3]+X[3][1]*w0[1][3]+X[3][2]*w0[2][3]\n",
    "    \n",
    "    net_h=np.array([[net_h0],[net_h1],[net_h2],[net_h3]])\n",
    "    h=f(net_h)\n",
    "    \n",
    "    net_o=h*w1\n",
    "    o=f(net_o)\n",
    "    \n",
    "    e=o-y\n",
    "    delta_o=e*f_p(net_o)\n",
    "    delta_j=delta_o*w1*f_p(net_h)\n",
    "    \n",
    "    w1=w1-eta*delta_o*h\n",
    "    w0=w0-eta*np.transpose(delta_j*X)\n",
    "    if(e.all()==0):\n",
    "        break\n",
    "w0, w1, o"
   ]
  },
  {
   "cell_type": "markdown",
   "metadata": {},
   "source": [
    "#### 실제값 y와 예측값 o가 거의 비슷해졌다."
   ]
  }
 ],
 "metadata": {
  "kernelspec": {
   "display_name": "Python 3",
   "language": "python",
   "name": "python3"
  },
  "language_info": {
   "codemirror_mode": {
    "name": "ipython",
    "version": 3
   },
   "file_extension": ".py",
   "mimetype": "text/x-python",
   "name": "python",
   "nbconvert_exporter": "python",
   "pygments_lexer": "ipython3",
   "version": "3.7.11"
  }
 },
 "nbformat": 4,
 "nbformat_minor": 2
}
